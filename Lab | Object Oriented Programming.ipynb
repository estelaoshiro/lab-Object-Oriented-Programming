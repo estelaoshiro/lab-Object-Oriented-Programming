{
 "cells": [
  {
   "cell_type": "markdown",
   "id": "21faf056",
   "metadata": {},
   "source": [
    "# Lab | Object Oriented Programming"
   ]
  },
  {
   "cell_type": "markdown",
   "id": "68ae08d3",
   "metadata": {},
   "source": [
    "Introduction\n",
    "In this lab you have to implement a Python class for a TV.\n",
    "\n",
    "Constructor\n",
    "Crete a Python Tv class with a constructor and the following attributes:\n",
    "\n",
    ".on (Boolean)\n",
    ".volume (float in [0,100])\n",
    ".active_channel (int in [1,10])\n",
    ".input (str in [\"Anthena\", \"HDMI1\", \"HDMI2\", \"HDMI3\"])\n",
    ".size (float in [42, 50, 55, 65, 75])\n",
    "\n",
    "Methods\n",
    ".switch_on()\n",
    ".switch_off()\n",
    ".set_volume(volume: int)\n",
    ".change_channel(channel: int)\n",
    ".set_input(value: str)"
   ]
  },
  {
   "cell_type": "code",
   "execution_count": 67,
   "id": "05aad8c9",
   "metadata": {},
   "outputs": [],
   "source": [
    "class TV ():\n",
    "    #constructor\n",
    "    def __init__(self, on, volume, active_channel, input, size):\n",
    "        self.on = on\n",
    "        self.volume = volume\n",
    "        self.active_channel = active_channel\n",
    "        self.input = input\n",
    "        self.size = size\n",
    "        \n",
    "    #methods\n",
    "    def switch_on (self):\n",
    "        self.on = True\n",
    "    def switch_off (self):\n",
    "        self.on = False \n",
    "        \n",
    "    def set_volume (self, volume):\n",
    "        if self.on == True:\n",
    "            if type(volume) == int:\n",
    "                if volume >= 0 and volume <= 100:\n",
    "                    self.volume = volume\n",
    "            else:\n",
    "                print(\"Invalid type\")\n",
    "\n",
    "    def change_channel (self, channel):\n",
    "        if self.on:\n",
    "            if type(channel) == int:\n",
    "                if channel >=1 and channel <=10:\n",
    "                    self.active_channel = channel\n",
    "                else:\n",
    "                    print(\"Invalid channel\")\n",
    "            else:\n",
    "                print(\"Invalid type\")\n",
    "                \n",
    "    def set_input (self, input):\n",
    "        if self.on:\n",
    "            if type(input) == str:\n",
    "                if input in [\"Anthena\", \"HDMI1\", \"HDMI2\", \"HDMI3\"]:\n",
    "                    self.input = input\n",
    "                else:\n",
    "                    print(\"Invalid input\")\n",
    "            else:\n",
    "                print(\"Enter a valid option: Anthena, HDMI1, HDMI2, HDMI3\")"
   ]
  },
  {
   "cell_type": "code",
   "execution_count": 68,
   "id": "85df3c1e",
   "metadata": {},
   "outputs": [],
   "source": [
    "test = TV(on=True, volume=10, active_channel = 10, input='Anthena', size=42)"
   ]
  },
  {
   "cell_type": "code",
   "execution_count": 66,
   "id": "063d00a3",
   "metadata": {},
   "outputs": [
    {
     "name": "stdout",
     "output_type": "stream",
     "text": [
      "Invalid type\n"
     ]
    }
   ],
   "source": [
    "test.set_volume(1.4)"
   ]
  },
  {
   "cell_type": "code",
   "execution_count": 63,
   "id": "debb4c7d",
   "metadata": {},
   "outputs": [
    {
     "data": {
      "text/plain": [
       "10"
      ]
     },
     "execution_count": 63,
     "metadata": {},
     "output_type": "execute_result"
    }
   ],
   "source": [
    "test.volume"
   ]
  },
  {
   "cell_type": "code",
   "execution_count": 57,
   "id": "759b457b",
   "metadata": {},
   "outputs": [],
   "source": [
    "test.change_channel(1.5)"
   ]
  },
  {
   "cell_type": "code",
   "execution_count": 58,
   "id": "661f5781",
   "metadata": {},
   "outputs": [
    {
     "data": {
      "text/plain": [
       "1.5"
      ]
     },
     "execution_count": 58,
     "metadata": {},
     "output_type": "execute_result"
    }
   ],
   "source": [
    "test.active_channel"
   ]
  },
  {
   "cell_type": "code",
   "execution_count": 69,
   "id": "bdfe6240",
   "metadata": {},
   "outputs": [
    {
     "name": "stdout",
     "output_type": "stream",
     "text": [
      "Enter a valid option: Anthena, HDMI1, HDMI2, HDMI3\n"
     ]
    }
   ],
   "source": [
    "test.set_input(3)"
   ]
  },
  {
   "cell_type": "code",
   "execution_count": 70,
   "id": "fb27300f",
   "metadata": {},
   "outputs": [
    {
     "data": {
      "text/plain": [
       "'Anthena'"
      ]
     },
     "execution_count": 70,
     "metadata": {},
     "output_type": "execute_result"
    }
   ],
   "source": [
    "test.input"
   ]
  },
  {
   "cell_type": "code",
   "execution_count": null,
   "id": "4a0b7e9f",
   "metadata": {},
   "outputs": [],
   "source": []
  }
 ],
 "metadata": {
  "kernelspec": {
   "display_name": "Python 3 (ipykernel)",
   "language": "python",
   "name": "python3"
  },
  "language_info": {
   "codemirror_mode": {
    "name": "ipython",
    "version": 3
   },
   "file_extension": ".py",
   "mimetype": "text/x-python",
   "name": "python",
   "nbconvert_exporter": "python",
   "pygments_lexer": "ipython3",
   "version": "3.9.12"
  }
 },
 "nbformat": 4,
 "nbformat_minor": 5
}
